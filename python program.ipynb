{
 "cells": [
  {
   "cell_type": "code",
   "execution_count": 1,
   "id": "b1b9c4aa",
   "metadata": {},
   "outputs": [
    {
     "name": "stdout",
     "output_type": "stream",
     "text": [
      "Enter the time in seconds: 45\n",
      "Fire  in the hole !!\n"
     ]
    }
   ],
   "source": [
    "# import the time module \n",
    "import time\n",
    "\n",
    "# define the countdown func.\n",
    "def countdown(t):\n",
    "    \n",
    "    while t:\n",
    "        mins, secs = divmod(t, 60)\n",
    "        timer = '{:02d}:{:02d}'.format(mins,secs)\n",
    "        print(timer, end=\"\\r\")\n",
    "        time.sleep(1)\n",
    "        t -= 1\n",
    "        \n",
    "        \n",
    "    print('Fire  in the hole !!')\n",
    "    \n",
    "    \n",
    "# input time in seconds\n",
    "t = input (\"Enter the time in seconds: \")\n",
    "\n",
    "# function call\n",
    "countdown (int(t))"
   ]
  },
  {
   "cell_type": "code",
   "execution_count": null,
   "id": "2ab03514",
   "metadata": {},
   "outputs": [],
   "source": [
    "import time \n",
    "\n",
    "\n",
    "def set_countdown():\n",
    "    seconds = int(input(\"Enter amount of seconds: \"))\n",
    "    print ('Countdown starts now...')\n",
    "    temp = seconds \n",
    "    while temp != 0:\n",
    "        if temp != seconds:\n",
    "            print ('\\b'*len(str(temp)),end='')\n",
    "        time.sleep(1)\n",
    "        temp -= 1\n",
    "        print(temp, end='')\n",
    "        print(\"\\ncountdown ended...\\n\")\n",
    "              \n",
    "print(\"===== welcome to Countdown Timer=====\")\n",
    "while 1:\n",
    "              choice = input(\"Do you want to set a countdown(y\\n):\")\n",
    "              if 'y' in choice .loewr():\n",
    "                   set_countdown()\n",
    "              elif 'n'in choice .lower():\n",
    "                   print ('Exiting...')\n",
    "                   break\n",
    "              else:\n",
    "                 print('Invalid input...please nvaild input...please try again')"
   ]
  },
  {
   "cell_type": "code",
   "execution_count": null,
   "id": "0f746f75",
   "metadata": {},
   "outputs": [],
   "source": []
  },
  {
   "cell_type": "code",
   "execution_count": null,
   "id": "7bc05095",
   "metadata": {},
   "outputs": [],
   "source": [
    " "
   ]
  },
  {
   "cell_type": "code",
   "execution_count": null,
   "id": "9d24cc6f",
   "metadata": {},
   "outputs": [],
   "source": []
  }
 ],
 "metadata": {
  "kernelspec": {
   "display_name": "Python 3 (ipykernel)",
   "language": "python",
   "name": "python3"
  },
  "language_info": {
   "codemirror_mode": {
    "name": "ipython",
    "version": 3
   },
   "file_extension": ".py",
   "mimetype": "text/x-python",
   "name": "python",
   "nbconvert_exporter": "python",
   "pygments_lexer": "ipython3",
   "version": "3.9.7"
  }
 },
 "nbformat": 4,
 "nbformat_minor": 5
}
